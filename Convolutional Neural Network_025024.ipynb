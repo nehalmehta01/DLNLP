{
 "cells": [
  {
   "cell_type": "code",
   "execution_count": 1,
   "id": "2c110874",
   "metadata": {},
   "outputs": [
    {
     "name": "stderr",
     "output_type": "stream",
     "text": [
      "C:\\Users\\hp\\anaconda3\\lib\\site-packages\\scipy\\__init__.py:146: UserWarning: A NumPy version >=1.16.5 and <1.23.0 is required for this version of SciPy (detected version 1.23.1\n",
      "  warnings.warn(f\"A NumPy version >={np_minversion} and <{np_maxversion}\"\n"
     ]
    }
   ],
   "source": [
    "import tensorflow as tf\n",
    "from keras.preprocessing.image import ImageDataGenerator"
   ]
  },
  {
   "cell_type": "code",
   "execution_count": 2,
   "id": "977c2848",
   "metadata": {},
   "outputs": [
    {
     "data": {
      "text/plain": [
       "'2.9.1'"
      ]
     },
     "execution_count": 2,
     "metadata": {},
     "output_type": "execute_result"
    }
   ],
   "source": [
    "tf.__version__"
   ]
  },
  {
   "cell_type": "code",
   "execution_count": 5,
   "id": "c0c5c560",
   "metadata": {},
   "outputs": [
    {
     "name": "stdout",
     "output_type": "stream",
     "text": [
      "Found 2000 images belonging to 2 classes.\n"
     ]
    }
   ],
   "source": [
    "train_datagen = ImageDataGenerator(rescale = 1./255,\n",
    "                                   shear_range = 0.2,\n",
    "                                   zoom_range = 0.2,\n",
    "                                   horizontal_flip = True)\n",
    "training_set = train_datagen.flow_from_directory('C:\\\\Users\\\\Nehal\\\\Downloads\\\\CNN Dataset\\\\training_set',\n",
    "                                                 target_size = (64, 64),\n",
    "                                                 batch_size = 32,\n",
    "                                                 class_mode = 'binary')"
   ]
  },
  {
   "cell_type": "code",
   "execution_count": 7,
   "id": "ffc74732",
   "metadata": {},
   "outputs": [
    {
     "name": "stdout",
     "output_type": "stream",
     "text": [
      "Found 2000 images belonging to 2 classes.\n"
     ]
    }
   ],
   "source": [
    "test_datagen = ImageDataGenerator(rescale = 1./255)\n",
    "test_set = test_datagen.flow_from_directory('C:\\\\Users\\\\Nehal\\\\Downloads\\\\CNN Dataset\\\\test_set',\n",
    "                                            target_size = (64, 64),\n",
    "                                            batch_size = 32,\n",
    "                                            class_mode = 'binary')"
   ]
  },
  {
   "cell_type": "code",
   "execution_count": 8,
   "id": "de954efa",
   "metadata": {},
   "outputs": [],
   "source": [
    "cnn = tf.keras.models.Sequential()"
   ]
  },
  {
   "cell_type": "code",
   "execution_count": 9,
   "id": "7987a22b",
   "metadata": {},
   "outputs": [],
   "source": [
    "cnn.add(tf.keras.layers.Conv2D(filters=32, kernel_size=3, activation='relu', input_shape=[64, 64, 3]))"
   ]
  },
  {
   "cell_type": "code",
   "execution_count": 10,
   "id": "47b2b20c",
   "metadata": {},
   "outputs": [],
   "source": [
    "cnn.add(tf.keras.layers.MaxPool2D(pool_size=2, strides=2))"
   ]
  },
  {
   "cell_type": "code",
   "execution_count": 11,
   "id": "10170599",
   "metadata": {},
   "outputs": [],
   "source": [
    "cnn.add(tf.keras.layers.Conv2D(filters=32, kernel_size=3, activation='relu'))\n",
    "cnn.add(tf.keras.layers.MaxPool2D(pool_size=2, strides=2))\n"
   ]
  },
  {
   "cell_type": "code",
   "execution_count": 12,
   "id": "e4bd7aa3",
   "metadata": {},
   "outputs": [],
   "source": [
    "cnn.add(tf.keras.layers.Flatten())"
   ]
  },
  {
   "cell_type": "code",
   "execution_count": 13,
   "id": "a805be88",
   "metadata": {},
   "outputs": [],
   "source": [
    "cnn.add(tf.keras.layers.Dense(units=128, activation='relu'))"
   ]
  },
  {
   "cell_type": "code",
   "execution_count": 14,
   "id": "1cfb3499",
   "metadata": {},
   "outputs": [],
   "source": [
    "cnn.add(tf.keras.layers.Dense(units=1, activation='sigmoid'))"
   ]
  },
  {
   "cell_type": "code",
   "execution_count": 15,
   "id": "e165bc0b",
   "metadata": {},
   "outputs": [],
   "source": [
    "cnn.compile(optimizer = 'adam', loss = 'binary_crossentropy', metrics = ['accuracy'])"
   ]
  },
  {
   "cell_type": "code",
   "execution_count": 16,
   "id": "56899e95",
   "metadata": {},
   "outputs": [
    {
     "name": "stdout",
     "output_type": "stream",
     "text": [
      "Epoch 1/25\n",
      "63/63 [==============================] - 89s 1s/step - loss: 0.7007 - accuracy: 0.5085 - val_loss: 0.6764 - val_accuracy: 0.5935\n",
      "Epoch 2/25\n",
      "63/63 [==============================] - 87s 1s/step - loss: 0.6774 - accuracy: 0.5610 - val_loss: 0.6508 - val_accuracy: 0.6535\n",
      "Epoch 3/25\n",
      "63/63 [==============================] - 86s 1s/step - loss: 0.6553 - accuracy: 0.6120 - val_loss: 0.6372 - val_accuracy: 0.6410\n",
      "Epoch 4/25\n",
      "63/63 [==============================] - 88s 1s/step - loss: 0.6323 - accuracy: 0.6585 - val_loss: 0.5918 - val_accuracy: 0.6915\n",
      "Epoch 5/25\n",
      "63/63 [==============================] - 89s 1s/step - loss: 0.6129 - accuracy: 0.6675 - val_loss: 0.5597 - val_accuracy: 0.7070\n",
      "Epoch 6/25\n",
      "63/63 [==============================] - 91s 1s/step - loss: 0.6002 - accuracy: 0.6770 - val_loss: 0.5812 - val_accuracy: 0.7175\n",
      "Epoch 7/25\n",
      "63/63 [==============================] - 87s 1s/step - loss: 0.5810 - accuracy: 0.7025 - val_loss: 0.5827 - val_accuracy: 0.6770\n",
      "Epoch 8/25\n",
      "63/63 [==============================] - 88s 1s/step - loss: 0.5534 - accuracy: 0.7180 - val_loss: 0.4995 - val_accuracy: 0.7510\n",
      "Epoch 9/25\n",
      "63/63 [==============================] - 79s 1s/step - loss: 0.5235 - accuracy: 0.7335 - val_loss: 0.4713 - val_accuracy: 0.7765\n",
      "Epoch 10/25\n",
      "63/63 [==============================] - 79s 1s/step - loss: 0.5262 - accuracy: 0.7275 - val_loss: 0.4847 - val_accuracy: 0.7765\n",
      "Epoch 11/25\n",
      "63/63 [==============================] - 76s 1s/step - loss: 0.5159 - accuracy: 0.7450 - val_loss: 0.4885 - val_accuracy: 0.7630\n",
      "Epoch 12/25\n",
      "63/63 [==============================] - 79s 1s/step - loss: 0.4889 - accuracy: 0.7665 - val_loss: 0.4323 - val_accuracy: 0.7970\n",
      "Epoch 13/25\n",
      "63/63 [==============================] - 76s 1s/step - loss: 0.4630 - accuracy: 0.7840 - val_loss: 0.4094 - val_accuracy: 0.8135\n",
      "Epoch 14/25\n",
      "63/63 [==============================] - 78s 1s/step - loss: 0.4717 - accuracy: 0.7775 - val_loss: 0.3911 - val_accuracy: 0.8250\n",
      "Epoch 15/25\n",
      "63/63 [==============================] - 78s 1s/step - loss: 0.4488 - accuracy: 0.7895 - val_loss: 0.4015 - val_accuracy: 0.8145\n",
      "Epoch 16/25\n",
      "63/63 [==============================] - 77s 1s/step - loss: 0.4255 - accuracy: 0.8120 - val_loss: 0.3400 - val_accuracy: 0.8555\n",
      "Epoch 17/25\n",
      "63/63 [==============================] - 77s 1s/step - loss: 0.4010 - accuracy: 0.8175 - val_loss: 0.3653 - val_accuracy: 0.8355\n",
      "Epoch 18/25\n",
      "63/63 [==============================] - 75s 1s/step - loss: 0.4076 - accuracy: 0.8095 - val_loss: 0.3081 - val_accuracy: 0.8770\n",
      "Epoch 19/25\n",
      "63/63 [==============================] - 72s 1s/step - loss: 0.3806 - accuracy: 0.8425 - val_loss: 0.2853 - val_accuracy: 0.8890\n",
      "Epoch 20/25\n",
      "63/63 [==============================] - 54s 856ms/step - loss: 0.3474 - accuracy: 0.8470 - val_loss: 0.2891 - val_accuracy: 0.8665\n",
      "Epoch 21/25\n",
      "63/63 [==============================] - 49s 780ms/step - loss: 0.3353 - accuracy: 0.8540 - val_loss: 0.2888 - val_accuracy: 0.8725\n",
      "Epoch 22/25\n",
      "63/63 [==============================] - 52s 828ms/step - loss: 0.3161 - accuracy: 0.8640 - val_loss: 0.2461 - val_accuracy: 0.9005\n",
      "Epoch 23/25\n",
      "63/63 [==============================] - 50s 801ms/step - loss: 0.3015 - accuracy: 0.8730 - val_loss: 0.2432 - val_accuracy: 0.9075\n",
      "Epoch 24/25\n",
      "63/63 [==============================] - 49s 779ms/step - loss: 0.2776 - accuracy: 0.8790 - val_loss: 0.1864 - val_accuracy: 0.9315\n",
      "Epoch 25/25\n",
      "63/63 [==============================] - 52s 822ms/step - loss: 0.2531 - accuracy: 0.8985 - val_loss: 0.1739 - val_accuracy: 0.9375\n"
     ]
    },
    {
     "data": {
      "text/plain": [
       "<keras.callbacks.History at 0x21f8bab3d00>"
      ]
     },
     "execution_count": 16,
     "metadata": {},
     "output_type": "execute_result"
    }
   ],
   "source": [
    "cnn.fit(x = training_set, validation_data = test_set, epochs = 25)"
   ]
  },
  {
   "cell_type": "code",
   "execution_count": 25,
   "id": "f2ae3d16",
   "metadata": {},
   "outputs": [
    {
     "name": "stdout",
     "output_type": "stream",
     "text": [
      "1/1 [==============================] - 0s 254ms/step\n"
     ]
    }
   ],
   "source": [
    "import numpy as np\n",
    "from tensorflow.keras.preprocessing import image \n",
    "test_image = image.load_img('C:\\\\Users\\\\Nehal\\\\Downloads\\\\CNN Dataset\\\\single_prediction\\\\cat_or_dog_2.jpg', target_size = (64, 64))\n",
    "test_image = image.img_to_array(test_image)\n",
    "test_image = np.expand_dims(test_image, axis = 0)\n",
    "result = cnn.predict(test_image)\n",
    "training_set.class_indices\n",
    "if result[0][0] == 1:\n",
    "  prediction = 'dog'\n",
    "else:\n",
    "  prediction = 'cat'"
   ]
  },
  {
   "cell_type": "code",
   "execution_count": 26,
   "id": "ddce8198",
   "metadata": {},
   "outputs": [
    {
     "name": "stdout",
     "output_type": "stream",
     "text": [
      "cat\n"
     ]
    }
   ],
   "source": [
    "print(prediction)"
   ]
  },
  {
   "cell_type": "code",
   "execution_count": null,
   "id": "60a8b68f",
   "metadata": {},
   "outputs": [],
   "source": []
  }
 ],
 "metadata": {
  "kernelspec": {
   "display_name": "Python 3",
   "language": "python",
   "name": "python3"
  },
  "language_info": {
   "codemirror_mode": {
    "name": "ipython",
    "version": 3
   },
   "file_extension": ".py",
   "mimetype": "text/x-python",
   "name": "python",
   "nbconvert_exporter": "python",
   "pygments_lexer": "ipython3",
   "version": "3.8.8"
  }
 },
 "nbformat": 4,
 "nbformat_minor": 5
}
