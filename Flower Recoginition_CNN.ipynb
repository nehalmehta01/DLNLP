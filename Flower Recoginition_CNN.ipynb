{
 "cells": [
  {
   "cell_type": "markdown",
   "id": "b3cd96f0",
   "metadata": {},
   "source": [
    "import tensorflow as tf\n",
    "from keras.preprocessing.image import ImageDataGenerator\n"
   ]
  },
  {
   "cell_type": "code",
   "execution_count": 21,
   "id": "cccbca41",
   "metadata": {},
   "outputs": [],
   "source": [
    "import tensorflow as tf\n",
    "from keras.preprocessing.image import ImageDataGenerator"
   ]
  },
  {
   "cell_type": "code",
   "execution_count": 22,
   "id": "0c2a2ae3",
   "metadata": {},
   "outputs": [
    {
     "data": {
      "text/plain": [
       "'2.9.1'"
      ]
     },
     "execution_count": 22,
     "metadata": {},
     "output_type": "execute_result"
    }
   ],
   "source": [
    "tf.__version__"
   ]
  },
  {
   "cell_type": "code",
   "execution_count": 23,
   "id": "dbccd9c4",
   "metadata": {},
   "outputs": [
    {
     "name": "stdout",
     "output_type": "stream",
     "text": [
      "Found 4095 images belonging to 5 classes.\n"
     ]
    }
   ],
   "source": [
    "#Part 1 - Data Preprocessing\n",
    "#Preprocessing the Training set\n",
    "\n",
    "train_datagen = ImageDataGenerator(rescale = 1./255,\n",
    "                                   shear_range = 0.2,\n",
    "                                   zoom_range = 0.2,\n",
    "                                   horizontal_flip = True)\n",
    "training_set = train_datagen.flow_from_directory('C:\\\\Users\\\\user\\\\Downloads\\\\flowers\\\\training csv',\n",
    "                                                 target_size = (64, 64),\n",
    "                                                 batch_size = 32,\n",
    "                                                 class_mode = 'binary')"
   ]
  },
  {
   "cell_type": "code",
   "execution_count": 24,
   "id": "ba690e49",
   "metadata": {},
   "outputs": [
    {
     "name": "stdout",
     "output_type": "stream",
     "text": [
      "Found 240 images belonging to 5 classes.\n"
     ]
    }
   ],
   "source": [
    "#Preprocessing the Test set\n",
    "\n",
    "\n",
    "test_datagen = ImageDataGenerator(rescale = 1./255)\n",
    "test_set = test_datagen.flow_from_directory('C:\\\\Users\\\\user\\\\Downloads\\\\flowers\\\\TEST CSV',\n",
    "                                            target_size = (64, 64),\n",
    "                                            batch_size = 32,\n",
    "                                            class_mode = 'binary')"
   ]
  },
  {
   "cell_type": "code",
   "execution_count": 25,
   "id": "01c7b1ad",
   "metadata": {},
   "outputs": [],
   "source": [
    "cnn = tf.keras.models.Sequential()"
   ]
  },
  {
   "cell_type": "code",
   "execution_count": 26,
   "id": "0799f56f",
   "metadata": {},
   "outputs": [],
   "source": [
    "cnn.add(tf.keras.layers.Conv2D(filters=32, kernel_size=3, activation='relu', input_shape=[64, 64, 3]))\n"
   ]
  },
  {
   "cell_type": "code",
   "execution_count": 27,
   "id": "17882266",
   "metadata": {},
   "outputs": [],
   "source": [
    "cnn.add(tf.keras.layers.MaxPool2D(pool_size=2, strides=2))"
   ]
  },
  {
   "cell_type": "code",
   "execution_count": 28,
   "id": "6d9decd7",
   "metadata": {},
   "outputs": [],
   "source": [
    "cnn.add(tf.keras.layers.Conv2D(filters=32, kernel_size=3, activation='relu'))\n",
    "cnn.add(tf.keras.layers.MaxPool2D(pool_size=2, strides=2))\n"
   ]
  },
  {
   "cell_type": "code",
   "execution_count": 29,
   "id": "451306fd",
   "metadata": {},
   "outputs": [],
   "source": [
    "cnn.add(tf.keras.layers.Flatten())"
   ]
  },
  {
   "cell_type": "code",
   "execution_count": 30,
   "id": "bfc378c0",
   "metadata": {},
   "outputs": [],
   "source": [
    "cnn.add(tf.keras.layers.Dense(units=128, activation='relu'))"
   ]
  },
  {
   "cell_type": "code",
   "execution_count": 31,
   "id": "8bf97511",
   "metadata": {},
   "outputs": [],
   "source": [
    "cnn.add(tf.keras.layers.Dense(units=1, activation='sigmoid'))\n"
   ]
  },
  {
   "cell_type": "code",
   "execution_count": 32,
   "id": "b34589f6",
   "metadata": {},
   "outputs": [],
   "source": [
    "cnn.compile(optimizer = 'adam', loss = 'binary_crossentropy', metrics = ['accuracy'])"
   ]
  },
  {
   "cell_type": "code",
   "execution_count": 33,
   "id": "03f5cd1a",
   "metadata": {},
   "outputs": [
    {
     "name": "stdout",
     "output_type": "stream",
     "text": [
      "Epoch 1/25\n",
      "128/128 [==============================] - 17s 129ms/step - loss: -644786.1250 - accuracy: 0.2444 - val_loss: -4464167.0000 - val_accuracy: 0.1833\n",
      "Epoch 2/25\n",
      "128/128 [==============================] - 16s 126ms/step - loss: -32686736.0000 - accuracy: 0.2462 - val_loss: -114481512.0000 - val_accuracy: 0.1833\n",
      "Epoch 3/25\n",
      "128/128 [==============================] - 16s 127ms/step - loss: -280647264.0000 - accuracy: 0.2462 - val_loss: -694722496.0000 - val_accuracy: 0.1833\n",
      "Epoch 4/25\n",
      "128/128 [==============================] - 17s 129ms/step - loss: -1168673408.0000 - accuracy: 0.2462 - val_loss: -2397746176.0000 - val_accuracy: 0.1833\n",
      "Epoch 5/25\n",
      "128/128 [==============================] - 17s 133ms/step - loss: -3297462528.0000 - accuracy: 0.2462 - val_loss: -6035063808.0000 - val_accuracy: 0.1833\n",
      "Epoch 6/25\n",
      "128/128 [==============================] - 17s 132ms/step - loss: -7395472384.0000 - accuracy: 0.2462 - val_loss: -12608115712.0000 - val_accuracy: 0.1833\n",
      "Epoch 7/25\n",
      "128/128 [==============================] - 17s 136ms/step - loss: -14366706688.0000 - accuracy: 0.2462 - val_loss: -23151409152.0000 - val_accuracy: 0.1833\n",
      "Epoch 8/25\n",
      "128/128 [==============================] - 16s 128ms/step - loss: -25116207104.0000 - accuracy: 0.2462 - val_loss: -39041814528.0000 - val_accuracy: 0.1833\n",
      "Epoch 9/25\n",
      "128/128 [==============================] - 16s 128ms/step - loss: -40671244288.0000 - accuracy: 0.2462 - val_loss: -61193768960.0000 - val_accuracy: 0.1833\n",
      "Epoch 10/25\n",
      "128/128 [==============================] - 17s 133ms/step - loss: -61783715840.0000 - accuracy: 0.2462 - val_loss: -90649411584.0000 - val_accuracy: 0.1833\n",
      "Epoch 11/25\n",
      "128/128 [==============================] - 17s 131ms/step - loss: -89574522880.0000 - accuracy: 0.2462 - val_loss: -128996622336.0000 - val_accuracy: 0.1833\n",
      "Epoch 12/25\n",
      "128/128 [==============================] - 22s 173ms/step - loss: -125344317440.0000 - accuracy: 0.2462 - val_loss: -177551409152.0000 - val_accuracy: 0.1833\n",
      "Epoch 13/25\n",
      "128/128 [==============================] - 22s 171ms/step - loss: -169770123264.0000 - accuracy: 0.2462 - val_loss: -237476610048.0000 - val_accuracy: 0.1833\n",
      "Epoch 14/25\n",
      "128/128 [==============================] - 23s 180ms/step - loss: -223919259648.0000 - accuracy: 0.2462 - val_loss: -309849325568.0000 - val_accuracy: 0.1833\n",
      "Epoch 15/25\n",
      "128/128 [==============================] - 24s 183ms/step - loss: -288917684224.0000 - accuracy: 0.2462 - val_loss: -395398053888.0000 - val_accuracy: 0.1833\n",
      "Epoch 16/25\n",
      "128/128 [==============================] - 21s 165ms/step - loss: -365447086080.0000 - accuracy: 0.2462 - val_loss: -496458301440.0000 - val_accuracy: 0.1833\n",
      "Epoch 17/25\n",
      "128/128 [==============================] - 21s 160ms/step - loss: -454660915200.0000 - accuracy: 0.2462 - val_loss: -611574677504.0000 - val_accuracy: 0.1833\n",
      "Epoch 18/25\n",
      "128/128 [==============================] - 21s 161ms/step - loss: -556910379008.0000 - accuracy: 0.2462 - val_loss: -745357508608.0000 - val_accuracy: 0.1833\n",
      "Epoch 19/25\n",
      "128/128 [==============================] - 20s 152ms/step - loss: -674521088000.0000 - accuracy: 0.2462 - val_loss: -897252589568.0000 - val_accuracy: 0.1833\n",
      "Epoch 20/25\n",
      "128/128 [==============================] - 21s 164ms/step - loss: -806190776320.0000 - accuracy: 0.2462 - val_loss: -1067474616320.0000 - val_accuracy: 0.1833\n",
      "Epoch 21/25\n",
      "128/128 [==============================] - 22s 172ms/step - loss: -954283261952.0000 - accuracy: 0.2462 - val_loss: -1257278013440.0000 - val_accuracy: 0.1833\n",
      "Epoch 22/25\n",
      "128/128 [==============================] - 20s 158ms/step - loss: -1121877098496.0000 - accuracy: 0.2462 - val_loss: -1470665850880.0000 - val_accuracy: 0.1833\n",
      "Epoch 23/25\n",
      "128/128 [==============================] - 24s 185ms/step - loss: -1302972727296.0000 - accuracy: 0.2462 - val_loss: -1705740992512.0000 - val_accuracy: 0.1833\n",
      "Epoch 24/25\n",
      "128/128 [==============================] - 22s 172ms/step - loss: -1504876429312.0000 - accuracy: 0.2462 - val_loss: -1961954115584.0000 - val_accuracy: 0.1833\n",
      "Epoch 25/25\n",
      "128/128 [==============================] - 21s 167ms/step - loss: -1730243985408.0000 - accuracy: 0.2462 - val_loss: -2244494753792.0000 - val_accuracy: 0.1833\n"
     ]
    },
    {
     "data": {
      "text/plain": [
       "<keras.callbacks.History at 0x26eab452370>"
      ]
     },
     "execution_count": 33,
     "metadata": {},
     "output_type": "execute_result"
    }
   ],
   "source": [
    "cnn.fit(x = training_set, validation_data = test_set, epochs = 25)"
   ]
  },
  {
   "cell_type": "code",
   "execution_count": 34,
   "id": "b8d6b647",
   "metadata": {},
   "outputs": [
    {
     "name": "stdout",
     "output_type": "stream",
     "text": [
      "1/1 [==============================] - 0s 96ms/step\n"
     ]
    }
   ],
   "source": [
    "import numpy as np\n",
    "from keras.preprocessing import image\n",
    "import matplotlib.pyplot as plt\n",
    "import matplotlib.image as mpimg\n",
    "import matplotlib.pyplot as plt\n",
    "import matplotlib.image as mpimg\n",
    "test_image = tf.keras.utils.load_img('C:\\\\Users\\\\user\\\\Downloads\\\\flowers\\\\TEST CSV\\\\rose\\\\12240303_80d87f77a3_n.jpg', target_size = (64, 64))\n",
    "test_image = tf.keras.utils.img_to_array(test_image)\n",
    "test_image = np.expand_dims(test_image, axis = 0)\n",
    "result = cnn.predict(test_image)\n",
    "training_set.class_indices\n",
    "if result[0][0] == 1:\n",
    "  prediction = 'rose'\n",
    "else:\n",
    "  prediction = 'tulip'"
   ]
  },
  {
   "cell_type": "code",
   "execution_count": 35,
   "id": "872fbf99",
   "metadata": {},
   "outputs": [
    {
     "name": "stdout",
     "output_type": "stream",
     "text": [
      "rose\n"
     ]
    }
   ],
   "source": [
    "print(prediction)"
   ]
  },
  {
   "cell_type": "code",
   "execution_count": 36,
   "id": "42e98bb1",
   "metadata": {},
   "outputs": [
    {
     "name": "stdout",
     "output_type": "stream",
     "text": [
      "1/1 [==============================] - 0s 37ms/step\n"
     ]
    }
   ],
   "source": [
    "import numpy as np\n",
    "from keras.preprocessing import image\n",
    "import matplotlib.pyplot as plt\n",
    "import matplotlib.image as mpimg\n",
    "import matplotlib.pyplot as plt\n",
    "import matplotlib.image as mpimg\n",
    "test_image = tf.keras.utils.load_img('C:\\\\Users\\\\user\\\\Downloads\\\\flowers\\\\TEST CSV\\\\sunflower\\\\184682652_c927a49226_m.jpg', target_size = (64, 64))\n",
    "test_image = tf.keras.utils.img_to_array(test_image)\n",
    "test_image = np.expand_dims(test_image, axis = 0)\n",
    "result = cnn.predict(test_image)\n",
    "training_set.class_indices\n",
    "if result[0][0] == 1:\n",
    "  prediction = 'sunflower'\n",
    "else:\n",
    "  prediction = 'rose'\n",
    "\n"
   ]
  },
  {
   "cell_type": "code",
   "execution_count": 37,
   "id": "92ffb965",
   "metadata": {},
   "outputs": [
    {
     "name": "stdout",
     "output_type": "stream",
     "text": [
      "sunflower\n"
     ]
    }
   ],
   "source": [
    "print(prediction)"
   ]
  },
  {
   "cell_type": "code",
   "execution_count": null,
   "id": "c0454014",
   "metadata": {},
   "outputs": [],
   "source": []
  }
 ],
 "metadata": {
  "kernelspec": {
   "display_name": "Python 3",
   "language": "python",
   "name": "python3"
  },
  "language_info": {
   "codemirror_mode": {
    "name": "ipython",
    "version": 3
   },
   "file_extension": ".py",
   "mimetype": "text/x-python",
   "name": "python",
   "nbconvert_exporter": "python",
   "pygments_lexer": "ipython3",
   "version": "3.8.8"
  }
 },
 "nbformat": 4,
 "nbformat_minor": 5
}
